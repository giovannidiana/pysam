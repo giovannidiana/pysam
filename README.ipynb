{
 "cells": [
  {
   "cell_type": "markdown",
   "metadata": {},
   "source": [
    "# Bayesian inference with pySam\n",
    "pySam provides a simple implementation of Monte Carlo techniques such as importance sampling and sequential MC for static models.\n",
    "\n",
    "The package contains a base class for Bayesian models `pysam.Model`\n",
    "\n",
    "```python\n",
    "class Model:\n",
    "    \n",
    "    def __init__(self): raise NotImplementedError\n",
    "    def LogLikelihood(self,X): raise NotImplementedError\n",
    "    def LogPrior(self,X): raise NotImplementedError\n",
    "    def rPrior(self,X): raise NotImplementedError\n",
    "    def Density(self,X): raise NotImplementedError\n",
    "```\n",
    "where `LogLikelihood`, `LogPrior` and `Density` are the data log likelihood, the log of the prior distribution of the model parameters, and `Density` is the probabilistic model. The user implementation of these functions must support vectorization, i.e. `X` can be a numpy array with set of parameters arranged by rows.\n",
    "\n",
    "The main class implementing sampling methods is `pysam.Inference`. An instance of `pysam.Inference` is specified by a Model object\n",
    "\n",
    "```python\n",
    "def __init__(self,model):\n",
    "        self.model = model\n",
    "```\n",
    "\n",
    "## Importance sampling \n",
    "Posterior averages can be obtained by using weighted samples obtained from an importance distribution used to approximate the posterior density. Importance weights are obtained as the ratio between the unnormalized posterior and the importance densities.\n",
    "For simplicity, in pysam the importance distribution is identical to the prior. \n",
    "\n",
    "## Sequential Monte Carlo \n",
    "In pySam we implemented a tempered likelihood scheme to obtain a particle approximation of the posterior density. This corresponds to draw sequentially from the distributions\n",
    "\n",
    "$$ \\pi_k = \\frac{1}{Z_k}P(data|\\theta)^{h_k}\\cdot P(\\theta),\\quad k=1,\\cdots,q$$\n",
    "\n",
    "where $h_0=0$ corresponds to the prior distribution and $h_q=1$ is the posterior distribution. Here $Z_k$ are the normalization constants and $Z_q$ is the marginal likelihood of the model. \n",
    "\n",
    "The method `pysam.SMC` corresponds to the following algorithm[1]\n",
    "\n",
    "1. Initialization \n",
    "     * set $n=0$ \n",
    "     * draw $N$ particles corresponding to independent model parameters $\\theta_{1:N}$ according to their prior distributions\n",
    "     * Set importance weights to $1/N$ for all particles\n",
    "     * Define a tempered protocol $h=\\lbrace h_0=0,h_1,\\cdots,h_{P-1},h_P=1\\rbrace$\n",
    "     * Iterate steps 2, 3 and 4\n",
    "2. Resampling\n",
    "     * Calculate the effective sample size (ESS)\n",
    "     $$ESS = \\left(\\sum_k (W^{(k)})^2\\right)^{-1}$$\n",
    "     * when $ESS<N/2$ resample all particles and set their weights to $1/N$\n",
    "3. Reweighting \n",
    "     * Reweight all particles using an incremental log weight of \n",
    "      $\\log\\tilde w = (h_{n+1}-h_{n}) \\log P(data|\\theta)$\n",
    "     * recalculate and normalize all weights \n",
    "4. Move particles according to a Metropolis-Hastings kernel. "
   ]
  },
  {
   "cell_type": "markdown",
   "metadata": {},
   "source": [
    "## Example - Power law class\n",
    "\n",
    "To illustrate the use of the pysam library we implemented a class corresponding to a power law model"
   ]
  },
  {
   "cell_type": "code",
   "execution_count": 1,
   "metadata": {},
   "outputs": [],
   "source": [
    "import pysam\n",
    "import scipy.stats as stat\n",
    "\n",
    "class powerlaw(pysam.Model):\n",
    "    def __init__(self,a,b):\n",
    "        self.a=a\n",
    "        self.b=b\n",
    "        #self.data=None\n",
    "\n",
    "    def LoadData(self,X):\n",
    "        self.data=X\n",
    "        self.M=X.shape[0]\n",
    "\n",
    "    def LogPrior(self,x):\n",
    "        return(stat.norm.logpdf(x,1,2))\n",
    "\n",
    "    def rPrior(self,n):\n",
    "        return(np.random.normal(1,2,n))\n",
    "\n",
    "    def LogLikelihood(self,lam):\n",
    "        zetamat=np.power.outer(1.0/np.arange(self.a,self.b+1),lam)\n",
    "        zeta=np.sum(zetamat,0)\n",
    "        nprod=-lam*np.sum(np.log(self.data))\n",
    "        norm=-self.M*np.log(zeta)\n",
    "        loglik=nprod+norm\n",
    "        return(loglik)"
   ]
  },
  {
   "cell_type": "markdown",
   "metadata": {},
   "source": [
    "Let us first generate some test data using an exponent of 1.6 "
   ]
  },
  {
   "cell_type": "code",
   "execution_count": 2,
   "metadata": {},
   "outputs": [
    {
     "data": {
      "image/png": "[encoded data removed]",
      "text/plain": [
       "<matplotlib.figure.Figure at 0x7f3b74509898>"
      ]
     },
     "metadata": {
      "needs_background": "light"
     },
     "output_type": "display_data"
    }
   ],
   "source": [
    "import numpy as np\n",
    "import matplotlib.pyplot as plt\n",
    "lam=1.6\n",
    "density=1.0/np.arange(1,100)**lam\n",
    "density=density/np.sum(density)\n",
    "data=np.random.choice(np.arange(1,100),300,1,density)\n",
    "fig, ax = plt.subplots()\n",
    "ax.hist(data,density=1,log=True)\n",
    "plt.show()"
   ]
  },
  {
   "cell_type": "markdown",
   "metadata": {},
   "source": [
    "Now we can use these data to make inference on the exponent of the power law. First we define the model object (derived from the `pysam.Model` class) and load the data that we just generated"
   ]
  },
  {
   "cell_type": "code",
   "execution_count": 3,
   "metadata": {},
   "outputs": [],
   "source": [
    "pl=powerlaw(min(data),max(data))\n",
    "pl.LoadData(data)"
   ]
  },
  {
   "cell_type": "markdown",
   "metadata": {},
   "source": [
    "then we introduce an instance of `pysam.Inference` initialized using `pl` and use the SMC method to generate posterior samples"
   ]
  },
  {
   "cell_type": "code",
   "execution_count": 4,
   "metadata": {},
   "outputs": [
    {
     "data": {
      "image/png": "[encoded data removed]",
      "text/plain": [
       "<matplotlib.figure.Figure at 0x7f3b74509048>"
      ]
     },
     "metadata": {
      "needs_background": "light"
     },
     "output_type": "display_data"
    }
   ],
   "source": [
    "I = pysam.Inference(pl)\n",
    "I.SMC(200,4)\n",
    "I.plot_samples(var=0)"
   ]
  },
  {
   "cell_type": "markdown",
   "metadata": {},
   "source": [
    "Analogously we can replace the code above to employ a simpler importance sampling method"
   ]
  },
  {
   "cell_type": "code",
   "execution_count": 5,
   "metadata": {
    "scrolled": false
   },
   "outputs": [
    {
     "data": {
      "image/png": "[encoded data removed]",
      "text/plain": [
       "<matplotlib.figure.Figure at 0x7f3b40834198>"
      ]
     },
     "metadata": {
      "needs_background": "light"
     },
     "output_type": "display_data"
    }
   ],
   "source": [
    "I_is = pysam.Inference(pl)\n",
    "I_is.IS(20000)\n",
    "I_is.plot_samples([1,2.5])"
   ]
  },
  {
   "cell_type": "markdown",
   "metadata": {},
   "source": [
    "We can now compare the (log) marginal likelihood obtained with the two methods. We have"
   ]
  },
  {
   "cell_type": "code",
   "execution_count": 6,
   "metadata": {},
   "outputs": [
    {
     "name": "stdout",
     "output_type": "stream",
     "text": [
      "Log Marginal Likelihood from SMC =  -685.314903766\n",
      "Log Marginal Likelihood from IS =  -685.599362497 \n",
      "\n"
     ]
    }
   ],
   "source": [
    "print(\"Log Marginal Likelihood from SMC = \", I.LML)\n",
    "print(\"Log Marginal Likelihood from IS = \", I_is.LML,\"\\n\")"
   ]
  },
  {
   "cell_type": "markdown",
   "metadata": {},
   "source": [
    "## Example - Lognormal distribution\n",
    "Let us define the lognormal class as"
   ]
  },
  {
   "cell_type": "code",
   "execution_count": 7,
   "metadata": {},
   "outputs": [],
   "source": [
    "class lognormal(pysam.Model):\n",
    "    def __init__(self): pass\n",
    "\n",
    "    def LoadData(self,X):\n",
    "        self.data=X\n",
    "        self.M=X.shape[0]\n",
    "\n",
    "    def LogPrior(self,x):\n",
    "        return stat.norm.logpdf(x[:,0],1,3) + stat.gamma.logpdf(1.0/x[:,1],1,1)\n",
    "\n",
    "    def rPrior(self,n):\n",
    "        return np.column_stack((np.random.normal(1,3,n),\n",
    "                                1.0/np.random.gamma(1,1,n)))\n",
    "\n",
    "    def LogLikelihood(self,x):\n",
    "        T1 = -np.sum(np.log(self.data))\n",
    "        T2_mat = np.subtract.outer(np.log(self.data),x[:,0])**2\n",
    "        T2 = -np.sum(T2_mat,0)/(2*x[:,1])\n",
    "        T0 = -0.5*self.M*np.log(2*np.pi * x[:,1] )\n",
    "        loglik=T0+T1+T2\n",
    "        return loglik"
   ]
  },
  {
   "cell_type": "markdown",
   "metadata": {},
   "source": [
    "As in the power law example we can now generage some data distributed according to the lognormal distribution"
   ]
  },
  {
   "cell_type": "code",
   "execution_count": 31,
   "metadata": {},
   "outputs": [],
   "source": [
    "data=np.random.lognormal(1,1.4,100)"
   ]
  },
  {
   "cell_type": "markdown",
   "metadata": {},
   "source": [
    "Then we proceed by defining a model object the inference object as"
   ]
  },
  {
   "cell_type": "code",
   "execution_count": 34,
   "metadata": {},
   "outputs": [
    {
     "data": {
      "image/png": "[encoded data removed]",
      "text/plain": [
       "<matplotlib.figure.Figure at 0x7f3b3f4ee828>"
      ]
     },
     "metadata": {
      "needs_background": "light"
     },
     "output_type": "display_data"
    },
    {
     "data": {
      "image/png": "[encoded data removed]",
      "text/plain": [
       "<matplotlib.figure.Figure at 0x7f3b404d0d30>"
      ]
     },
     "metadata": {
      "needs_background": "light"
     },
     "output_type": "display_data"
    }
   ],
   "source": [
    "LN_model = lognormal()\n",
    "LN_model.LoadData(data)\n",
    "Iln=pysam.Inference(LN_model)\n",
    "Iln.SMC(1000,100)\n",
    "\n",
    "plt.subplot(2,1,1)\n",
    "Iln.plot_samples(var=0)\n",
    "plt.subplot(2,1,2)\n",
    "Iln.plot_samples(var=1)\n",
    "plt.show()\n"
   ]
  },
  {
   "cell_type": "markdown",
   "metadata": {},
   "source": [
    "## References\n",
    "[1] Del Moral, Pierre, Arnaud Doucet, and Ajay Jasra. \"Sequential monte carlo samplers.\" Journal of the Royal Statistical Society: Series B (Statistical Methodology) 68.3 (2006): 411-436."
   ]
  }
 ],
 "metadata": {
  "kernelspec": {
   "display_name": "Python 3",
   "language": "python",
   "name": "python3"
  },
  "language_info": {
   "codemirror_mode": {
    "name": "ipython",
    "version": 3
   },
   "file_extension": ".py",
   "mimetype": "text/x-python",
   "name": "python",
   "nbconvert_exporter": "python",
   "pygments_lexer": "ipython3",
   "version": "3.6.8"
  }
 },
 "nbformat": 4,
 "nbformat_minor": 4
}
